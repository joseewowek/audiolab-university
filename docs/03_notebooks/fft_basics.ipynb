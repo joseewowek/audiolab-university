{
 "cells": [
  {
   "cell_type": "markdown",
   "metadata": {},
   "source": [
    "# FFT Basics - Fundamentos de la Transformada de Fourier\n",
    "\n",
    "Este notebook explora los conceptos básicos de la Transformada Rápida de Fourier (FFT) aplicada a señales de audio."
   ]
  },
  {
   "cell_type": "markdown",
   "metadata": {},
   "source": [
    "## Setup\n",
    "\n",
    "Importar librerías necesarias."
   ]
  },
  {
   "cell_type": "code",
   "execution_count": null,
   "metadata": {},
   "outputs": [],
   "source": [
    "import numpy as np\n",
    "import matplotlib.pyplot as plt\n",
    "from scipy.fft import fft, fftfreq\n",
    "from scipy.signal import hann\n",
    "\n",
    "# Configuración de gráficos\n",
    "plt.style.use('seaborn-v0_8-darkgrid')\n",
    "%matplotlib inline"
   ]
  },
  {
   "cell_type": "markdown",
   "metadata": {},
   "source": [
    "## 1. Generar Señal de Prueba\n",
    "\n",
    "Crearemos una señal sinusoidal simple de 440 Hz (nota La)."
   ]
  },
  {
   "cell_type": "code",
   "execution_count": null,
   "metadata": {},
   "outputs": [],
   "source": [
    "# Parámetros\n",
    "fs = 48000  # Frecuencia de muestreo\n",
    "duration = 1.0  # Duración en segundos\n",
    "f0 = 440.0  # Frecuencia fundamental (Hz)\n",
    "\n",
    "# Vector de tiempo\n",
    "t = np.linspace(0, duration, int(fs * duration), endpoint=False)\n",
    "\n",
    "# Señal sinusoidal\n",
    "signal = np.sin(2 * np.pi * f0 * t)\n",
    "\n",
    "# Visualizar primeros 100ms\n",
    "plt.figure(figsize=(12, 4))\n",
    "plt.plot(t[:4800], signal[:4800])\n",
    "plt.xlabel('Tiempo (s)')\n",
    "plt.ylabel('Amplitud')\n",
    "plt.title('Señal sinusoidal 440 Hz')\n",
    "plt.grid(True)\n",
    "plt.show()"
   ]
  },
  {
   "cell_type": "markdown",
   "metadata": {},
   "source": [
    "## 2. Aplicar FFT\n",
    "\n",
    "Calcular la transformada de Fourier para ver el contenido frecuencial."
   ]
  },
  {
   "cell_type": "code",
   "execution_count": null,
   "metadata": {},
   "outputs": [],
   "source": [
    "# Tamaño de FFT\n",
    "N = 4096\n",
    "\n",
    "# Tomar segmento\n",
    "segment = signal[:N]\n",
    "\n",
    "# Calcular FFT\n",
    "spectrum = fft(segment)\n",
    "freqs = fftfreq(N, 1/fs)\n",
    "\n",
    "# Magnitud (solo mitad positiva del espectro)\n",
    "magnitude = np.abs(spectrum[:N//2])\n",
    "freqs_positive = freqs[:N//2]\n",
    "\n",
    "# Plotear\n",
    "plt.figure(figsize=(12, 5))\n",
    "plt.plot(freqs_positive, magnitude)\n",
    "plt.xlabel('Frecuencia (Hz)')\n",
    "plt.ylabel('Magnitud')\n",
    "plt.title('Espectro de Frecuencia')\n",
    "plt.xlim(0, 2000)\n",
    "plt.grid(True)\n",
    "plt.show()\n",
    "\n",
    "# Encontrar pico\n",
    "peak_idx = np.argmax(magnitude)\n",
    "peak_freq = freqs_positive[peak_idx]\n",
    "print(f\"Frecuencia del pico: {peak_freq:.2f} Hz\")"
   ]
  },
  {
   "cell_type": "markdown",
   "metadata": {},
   "source": [
    "## 3. Efecto de las Ventanas\n",
    "\n",
    "Comparar señal sin ventana vs. con ventana Hann."
   ]
  },
  {
   "cell_type": "code",
   "execution_count": null,
   "metadata": {},
   "outputs": [],
   "source": [
    "# Señal sin ventana\n",
    "spectrum_rect = fft(segment)\n",
    "mag_rect = np.abs(spectrum_rect[:N//2])\n",
    "\n",
    "# Señal con ventana Hann\n",
    "window = hann(N)\n",
    "segment_windowed = segment * window\n",
    "spectrum_hann = fft(segment_windowed)\n",
    "mag_hann = np.abs(spectrum_hann[:N//2])\n",
    "\n",
    "# Plotear comparación\n",
    "plt.figure(figsize=(14, 6))\n",
    "\n",
    "plt.subplot(1, 2, 1)\n",
    "plt.plot(freqs_positive, 20*np.log10(mag_rect + 1e-10))\n",
    "plt.xlabel('Frecuencia (Hz)')\n",
    "plt.ylabel('Magnitud (dB)')\n",
    "plt.title('Sin Ventana (Rectangular)')\n",
    "plt.xlim(0, 2000)\n",
    "plt.ylim(-80, 80)\n",
    "plt.grid(True)\n",
    "\n",
    "plt.subplot(1, 2, 2)\n",
    "plt.plot(freqs_positive, 20*np.log10(mag_hann + 1e-10))\n",
    "plt.xlabel('Frecuencia (Hz)')\n",
    "plt.ylabel('Magnitud (dB)')\n",
    "plt.title('Con Ventana Hann')\n",
    "plt.xlim(0, 2000)\n",
    "plt.ylim(-80, 80)\n",
    "plt.grid(True)\n",
    "\n",
    "plt.tight_layout()\n",
    "plt.show()"
   ]
  },
  {
   "cell_type": "markdown",
   "metadata": {},
   "source": [
    "## 4. Señal con Múltiples Frecuencias\n",
    "\n",
    "Crear señal con varias componentes y analizarla."
   ]
  },
  {
   "cell_type": "code",
   "execution_count": null,
   "metadata": {},
   "outputs": [],
   "source": [
    "# Señal compleja: 440 Hz + 880 Hz + 1320 Hz\n",
    "signal_complex = (\n",
    "    1.0 * np.sin(2 * np.pi * 440 * t) +\n",
    "    0.5 * np.sin(2 * np.pi * 880 * t) +\n",
    "    0.25 * np.sin(2 * np.pi * 1320 * t)\n",
    ")\n",
    "\n",
    "# FFT de señal compleja\n",
    "segment_complex = signal_complex[:N] * window\n",
    "spectrum_complex = fft(segment_complex)\n",
    "mag_complex = np.abs(spectrum_complex[:N//2])\n",
    "\n",
    "# Plotear\n",
    "plt.figure(figsize=(12, 5))\n",
    "plt.plot(freqs_positive, 20*np.log10(mag_complex + 1e-10))\n",
    "plt.xlabel('Frecuencia (Hz)')\n",
    "plt.ylabel('Magnitud (dB)')\n",
    "plt.title('Espectro - Señal con 3 Armónicos')\n",
    "plt.xlim(0, 2000)\n",
    "plt.grid(True)\n",
    "\n",
    "# Marcar frecuencias teóricas\n",
    "for freq in [440, 880, 1320]:\n",
    "    plt.axvline(freq, color='r', linestyle='--', alpha=0.5)\n",
    "    plt.text(freq, 30, f'{freq} Hz', rotation=90, va='bottom')\n",
    "\n",
    "plt.show()"
   ]
  },
  {
   "cell_type": "markdown",
   "metadata": {},
   "source": [
    "## 5. Ejercicios\n",
    "\n",
    "### Ejercicio 1\n",
    "Modifica la frecuencia fundamental a 1000 Hz y verifica que el pico aparece en el lugar correcto.\n",
    "\n",
    "### Ejercicio 2\n",
    "Añade ruido blanco a la señal y observa cómo afecta al espectro.\n",
    "\n",
    "### Ejercicio 3\n",
    "Experimenta con diferentes tamaños de ventana FFT (1024, 2048, 8192) y compara la resolución frecuencial."
   ]
  },
  {
   "cell_type": "code",
   "execution_count": null,
   "metadata": {},
   "outputs": [],
   "source": [
    "# Espacio para ejercicios\n"
   ]
  }
 ],
 "metadata": {
  "kernelspec": {
   "display_name": "Python 3",
   "language": "python",
   "name": "python3"
  },
  "language_info": {
   "codemirror_mode": {
    "name": "ipython",
    "version": 3
   },
   "file_extension": ".py",
   "mimetype": "text/x-python",
   "name": "python",
   "nbconvert_exporter": "python",
   "pygments_lexer": "ipython3",
   "version": "3.10.0"
  }
 },
 "nbformat": 4,
 "nbformat_minor": 4
}
